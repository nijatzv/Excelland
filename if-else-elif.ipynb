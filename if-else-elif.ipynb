{
 "cells": [
  {
   "cell_type": "code",
   "execution_count": null,
   "id": "c8d0c849",
   "metadata": {},
   "outputs": [],
   "source": [
    "# if : eger (<=1)\n",
    "# else : eks halda (>=1)\n",
    "# elif : eks halda eger/ tam diger hal (=0)"
   ]
  },
  {
   "cell_type": "code",
   "execution_count": null,
   "id": "1ae89450",
   "metadata": {},
   "outputs": [],
   "source": [
    "# == beraberdir (true/false mentiqi)\n",
    "# != beraber deyil\n",
    "# <  kicikdir\n",
    "# >  boyukdur\n",
    "# <= kicik beraberdir\n",
    "# >= boyuk beraberdir"
   ]
  },
  {
   "cell_type": "code",
   "execution_count": 13,
   "id": "58a512a6",
   "metadata": {},
   "outputs": [],
   "source": [
    "yas = 50\n",
    "\n",
    "if yas < 25:\n",
    "    print('kinoya baxa bilmezsen')"
   ]
  },
  {
   "cell_type": "code",
   "execution_count": 39,
   "id": "79b217b9",
   "metadata": {},
   "outputs": [
    {
     "name": "stdout",
     "output_type": "stream",
     "text": [
      "kinoya baxa bilmezsen\n"
     ]
    }
   ],
   "source": [
    "yas = 18\n",
    "\n",
    "if yas<25:\n",
    "    print('kinoya baxa bilmezsen')\n",
    "else:\n",
    "    yas + 25\n",
    "    print('kinoya baxa bilersen')"
   ]
  },
  {
   "cell_type": "code",
   "execution_count": 27,
   "id": "34d4c6c8",
   "metadata": {},
   "outputs": [
    {
     "name": "stdout",
     "output_type": "stream",
     "text": [
      "baxa bilmezsen\n"
     ]
    }
   ],
   "source": [
    "yas = 17\n",
    "\n",
    "if yas != 18:\n",
    "    print('baxa bilmezsen')"
   ]
  },
  {
   "cell_type": "code",
   "execution_count": 49,
   "id": "f0ae5d79",
   "metadata": {},
   "outputs": [
    {
     "name": "stdout",
     "output_type": "stream",
     "text": [
      "menfi\n"
     ]
    }
   ],
   "source": [
    "eded = -1\n",
    "\n",
    "if eded < 0:\n",
    "    print('menfi')    \n",
    "elif eded > 0:\n",
    "    print('musbet')\n",
    "else:\n",
    "    print('eded sifirdir')"
   ]
  },
  {
   "cell_type": "code",
   "execution_count": 51,
   "id": "6ce224d6",
   "metadata": {},
   "outputs": [
    {
     "name": "stdout",
     "output_type": "stream",
     "text": [
      "menfi\n"
     ]
    }
   ],
   "source": [
    "eded = -4\n",
    "\n",
    "if eded == 0:\n",
    "    print('sifir')\n",
    "elif eded > 0:\n",
    "    print('musbet')\n",
    "else:\n",
    "    print('menfi')"
   ]
  },
  {
   "cell_type": "code",
   "execution_count": 55,
   "id": "60a2d730",
   "metadata": {},
   "outputs": [
    {
     "name": "stdout",
     "output_type": "stream",
     "text": [
      "her iki variant dogrudur\n"
     ]
    }
   ],
   "source": [
    "a = 200\n",
    "b = 30\n",
    "c = 500\n",
    "\n",
    "if a > b and c > b:\n",
    "    print('her iki variant dogrudur')"
   ]
  },
  {
   "cell_type": "code",
   "execution_count": 59,
   "id": "0d680a98",
   "metadata": {},
   "outputs": [
    {
     "name": "stdout",
     "output_type": "stream",
     "text": [
      "yazim dogru deyil\n"
     ]
    }
   ],
   "source": [
    "a = 200\n",
    "b = 30\n",
    "c = 500\n",
    "\n",
    "if a<b and c>b:\n",
    "    print('her iki variant dogrudur')\n",
    "else:\n",
    "    print('yazim dogru deyil')"
   ]
  },
  {
   "cell_type": "code",
   "execution_count": 61,
   "id": "6704b251",
   "metadata": {},
   "outputs": [
    {
     "name": "stdout",
     "output_type": "stream",
     "text": [
      "variantlardan en azi 1-i dogrudur\n"
     ]
    }
   ],
   "source": [
    "a = 200\n",
    "b = 30\n",
    "c = 500\n",
    "\n",
    "if a > b or c > b:\n",
    "    print('variantlardan en azi 1-i dogrudur')"
   ]
  },
  {
   "cell_type": "code",
   "execution_count": 21,
   "id": "befb620c",
   "metadata": {},
   "outputs": [
    {
     "name": "stdout",
     "output_type": "stream",
     "text": [
      "variantlardan en azi 1-i dogrudur\n"
     ]
    }
   ],
   "source": [
    "a = 200\n",
    "b = 30\n",
    "c = 500\n",
    "\n",
    "if a < b or c > b:\n",
    "    print('variantlardan en azi 1-i dogrudur')"
   ]
  },
  {
   "cell_type": "code",
   "execution_count": 63,
   "id": "cffdb0df",
   "metadata": {},
   "outputs": [
    {
     "name": "stdout",
     "output_type": "stream",
     "text": [
      "her iki variant yanlisdir\n"
     ]
    }
   ],
   "source": [
    "a = 200\n",
    "b = 30\n",
    "c = 500\n",
    "\n",
    "if a < b or c < b:\n",
    "    print('variantlardan en azi 1-i dogrudur')\n",
    "else:\n",
    "    print('her iki variant yanlisdir')"
   ]
  },
  {
   "cell_type": "code",
   "execution_count": 73,
   "id": "3c0a9726",
   "metadata": {},
   "outputs": [
    {
     "name": "stdout",
     "output_type": "stream",
     "text": [
      "x-in qiymeti daha yuxaridir, \n",
      "20 den asagidir\n"
     ]
    }
   ],
   "source": [
    "x = 15\n",
    "\n",
    "if x>10:\n",
    "    print('x-in qiymeti daha yuxaridir, ')                      # nested ifs\n",
    "    if x > 20:\n",
    "        print('x-in qiymeti 20-den de yuxaridir')\n",
    "    else:\n",
    "        print('20 den asagidir')"
   ]
  },
  {
   "cell_type": "code",
   "execution_count": 75,
   "id": "65f75774",
   "metadata": {},
   "outputs": [
    {
     "name": "stdout",
     "output_type": "stream",
     "text": [
      "x-in qiymeti daha yuxaridir, \n",
      "20 den asagidir\n"
     ]
    }
   ],
   "source": [
    "x = 9\n",
    "\n",
    "if x>0:\n",
    "    print('x-in qiymeti daha yuxaridir, ')\n",
    "    if x > 20:\n",
    "        print('x-in qiymeti 20-den de yuxaridir')\n",
    "    else:\n",
    "        print('20 den asagidir')\n",
    "else:\n",
    "    print('eded menfidir')"
   ]
  },
  {
   "cell_type": "code",
   "execution_count": 95,
   "id": "a9bb785f",
   "metadata": {},
   "outputs": [
    {
     "name": "stdin",
     "output_type": "stream",
     "text": [
      "daxil et:  75r\n"
     ]
    },
    {
     "name": "stdout",
     "output_type": "stream",
     "text": [
      "daxil etdiyin element yoxdu sozde\n"
     ]
    }
   ],
   "source": [
    "soz = 'poctalyon'\n",
    "herf = input('daxil et: ')\n",
    "\n",
    "if herf in soz:\n",
    "    print('var')\n",
    "else:\n",
    "    print('daxil etdiyin element yoxdu sozde')"
   ]
  },
  {
   "cell_type": "code",
   "execution_count": 101,
   "id": "f50e05cb",
   "metadata": {},
   "outputs": [
    {
     "name": "stdin",
     "output_type": "stream",
     "text": [
      "kard no daxil et:  123413413423\n"
     ]
    },
    {
     "name": "stdout",
     "output_type": "stream",
     "text": [
      "etibarsiz kart\n"
     ]
    }
   ],
   "source": [
    "card = input('kard no daxil et: ')\n",
    "\n",
    "if len(card) != 16:\n",
    "    print('etibarsiz kart')\n",
    "else:\n",
    "    print('pulu cixarin')"
   ]
  },
  {
   "cell_type": "code",
   "execution_count": 105,
   "id": "bde9de31-a7eb-471a-b7e9-a1e462fbcfeb",
   "metadata": {},
   "outputs": [],
   "source": [
    "ad = 'Nicat'\n",
    "\n",
    "if ad.isupper():\n",
    "    print('dogru')"
   ]
  },
  {
   "cell_type": "code",
   "execution_count": 107,
   "id": "dfbf4d7e-c91c-4bba-b6a6-6518e4f72fb0",
   "metadata": {},
   "outputs": [
    {
     "name": "stdout",
     "output_type": "stream",
     "text": [
      "dogru\n"
     ]
    }
   ],
   "source": [
    "ad = 'Nicat'\n",
    "\n",
    "if ad.istitle():\n",
    "    print('dogru')"
   ]
  },
  {
   "cell_type": "code",
   "execution_count": null,
   "id": "7cc0de34-d1ae-4005-8289-be350c525a89",
   "metadata": {},
   "outputs": [],
   "source": []
  },
  {
   "cell_type": "code",
   "execution_count": null,
   "id": "ca6c1462-3c4f-440f-ad37-9b06d030a245",
   "metadata": {},
   "outputs": [],
   "source": []
  },
  {
   "cell_type": "code",
   "execution_count": null,
   "id": "f91fa1b1-1369-42bb-9995-91cf5aeb6c61",
   "metadata": {},
   "outputs": [],
   "source": []
  }
 ],
 "metadata": {
  "kernelspec": {
   "display_name": "Python 3 (ipykernel)",
   "language": "python",
   "name": "python3"
  },
  "language_info": {
   "codemirror_mode": {
    "name": "ipython",
    "version": 3
   },
   "file_extension": ".py",
   "mimetype": "text/x-python",
   "name": "python",
   "nbconvert_exporter": "python",
   "pygments_lexer": "ipython3",
   "version": "3.12.7"
  }
 },
 "nbformat": 4,
 "nbformat_minor": 5
}
