{
 "cells": [
  {
   "cell_type": "markdown",
   "id": "bbdb4a67-68d3-4069-843f-9afd4d4cf076",
   "metadata": {},
   "source": [
    "<h2>Dərsin gedişatı</h2>\n",
    "\n",
    "1. Python haqqında məlumat\n",
    "2. Jupyter notebook yüklənməsi\n",
    "3. Jupyter notebook haqqında + praktiki əməllər\n",
    "4. İlk proqramlaşdırma kodu yazmaq (print, commentlər)\n",
    "5. Data tipləri\n",
    "6. Rəqəm tipli verilənlər: İntegerlər\n",
    "7. Rəqəm tipli verilənlər: Floatlar\n",
    "--------"
   ]
  },
  {
   "cell_type": "markdown",
   "id": "280f3a51",
   "metadata": {},
   "source": [
    "## Data Tipleri"
   ]
  },
  {
   "cell_type": "code",
   "execution_count": 1,
   "id": "556f8b05",
   "metadata": {},
   "outputs": [
    {
     "name": "stdout",
     "output_type": "stream",
     "text": [
      "Salam\n",
      "salam dunya\n",
      "   yad Adam KiTaBİ ABSURDİZM felsefesine esaslanir\n"
     ]
    }
   ],
   "source": [
    "# string - setir tipli verilenler - sozler\n",
    "\n",
    "print('Salam')\n",
    "print('salam dunya')\n",
    "print('   yad Adam KiTaBİ ABSURDİZM felsefesine esaslanir')"
   ]
  },
  {
   "cell_type": "code",
   "execution_count": 3,
   "id": "55ea922c",
   "metadata": {},
   "outputs": [],
   "source": [
    "x = 'salam men yaxsiyam'   # x deyiseni yaratdiq, menimsetdik"
   ]
  },
  {
   "cell_type": "code",
   "execution_count": 5,
   "id": "e230dba1",
   "metadata": {},
   "outputs": [
    {
     "data": {
      "text/plain": [
       "str"
      ]
     },
     "execution_count": 5,
     "metadata": {},
     "output_type": "execute_result"
    }
   ],
   "source": [
    "type(x)    # deyisenin tipine baxiriq"
   ]
  },
  {
   "cell_type": "code",
   "execution_count": 7,
   "id": "727892cd",
   "metadata": {},
   "outputs": [
    {
     "data": {
      "text/plain": [
       "str"
      ]
     },
     "execution_count": 7,
     "metadata": {},
     "output_type": "execute_result"
    }
   ],
   "source": [
    "type('salam')"
   ]
  },
  {
   "cell_type": "code",
   "execution_count": 9,
   "id": "ea8fba1a",
   "metadata": {},
   "outputs": [
    {
     "name": "stdout",
     "output_type": "stream",
     "text": [
      "salam men yaxsiyam\n"
     ]
    }
   ],
   "source": [
    "print(x)"
   ]
  },
  {
   "cell_type": "code",
   "execution_count": 11,
   "id": "b6f26715",
   "metadata": {},
   "outputs": [
    {
     "ename": "NameError",
     "evalue": "name 'a' is not defined",
     "output_type": "error",
     "traceback": [
      "\u001b[1;31m---------------------------------------------------------------------------\u001b[0m",
      "\u001b[1;31mNameError\u001b[0m                                 Traceback (most recent call last)",
      "Cell \u001b[1;32mIn[11], line 1\u001b[0m\n\u001b[1;32m----> 1\u001b[0m \u001b[38;5;28mprint\u001b[39m(a)\n",
      "\u001b[1;31mNameError\u001b[0m: name 'a' is not defined"
     ]
    }
   ],
   "source": [
    "print(a)"
   ]
  },
  {
   "cell_type": "code",
   "execution_count": 13,
   "id": "dc44770f",
   "metadata": {},
   "outputs": [],
   "source": [
    "reqem = '40'"
   ]
  },
  {
   "cell_type": "code",
   "execution_count": 15,
   "id": "d42869dc",
   "metadata": {
    "scrolled": true
   },
   "outputs": [
    {
     "data": {
      "text/plain": [
       "str"
      ]
     },
     "execution_count": 15,
     "metadata": {},
     "output_type": "execute_result"
    }
   ],
   "source": [
    "type(reqem)"
   ]
  },
  {
   "cell_type": "code",
   "execution_count": 17,
   "id": "6772ba06",
   "metadata": {},
   "outputs": [
    {
     "data": {
      "text/plain": [
       "'4040'"
      ]
     },
     "execution_count": 17,
     "metadata": {},
     "output_type": "execute_result"
    }
   ],
   "source": [
    "reqem + reqem"
   ]
  },
  {
   "cell_type": "code",
   "execution_count": 19,
   "id": "879870f8",
   "metadata": {},
   "outputs": [
    {
     "ename": "TypeError",
     "evalue": "can only concatenate str (not \"int\") to str",
     "output_type": "error",
     "traceback": [
      "\u001b[1;31m---------------------------------------------------------------------------\u001b[0m",
      "\u001b[1;31mTypeError\u001b[0m                                 Traceback (most recent call last)",
      "Cell \u001b[1;32mIn[19], line 1\u001b[0m\n\u001b[1;32m----> 1\u001b[0m reqem \u001b[38;5;241m+\u001b[39m \u001b[38;5;241m5\u001b[39m\n",
      "\u001b[1;31mTypeError\u001b[0m: can only concatenate str (not \"int\") to str"
     ]
    }
   ],
   "source": [
    "reqem + 5"
   ]
  },
  {
   "cell_type": "code",
   "execution_count": 21,
   "id": "43000458",
   "metadata": {},
   "outputs": [
    {
     "data": {
      "text/plain": [
       "'405'"
      ]
     },
     "execution_count": 21,
     "metadata": {},
     "output_type": "execute_result"
    }
   ],
   "source": [
    "reqem + '5'"
   ]
  },
  {
   "cell_type": "code",
   "execution_count": 23,
   "id": "b61d90d2",
   "metadata": {},
   "outputs": [
    {
     "data": {
      "text/plain": [
       "'4040'"
      ]
     },
     "execution_count": 23,
     "metadata": {},
     "output_type": "execute_result"
    }
   ],
   "source": [
    "reqem * 2"
   ]
  },
  {
   "cell_type": "markdown",
   "id": "23969170",
   "metadata": {},
   "source": [
    "-----"
   ]
  },
  {
   "cell_type": "code",
   "execution_count": 26,
   "id": "def6902c",
   "metadata": {},
   "outputs": [],
   "source": [
    "#reqem tipli verilenler: integer, float"
   ]
  },
  {
   "cell_type": "code",
   "execution_count": 28,
   "id": "2978379e",
   "metadata": {},
   "outputs": [],
   "source": [
    "yas = 14"
   ]
  },
  {
   "cell_type": "code",
   "execution_count": 30,
   "id": "6ef1b39b",
   "metadata": {},
   "outputs": [
    {
     "data": {
      "text/plain": [
       "14"
      ]
     },
     "execution_count": 30,
     "metadata": {},
     "output_type": "execute_result"
    }
   ],
   "source": [
    "yas"
   ]
  },
  {
   "cell_type": "code",
   "execution_count": 32,
   "id": "62d764ca",
   "metadata": {},
   "outputs": [
    {
     "name": "stdout",
     "output_type": "stream",
     "text": [
      "14\n"
     ]
    }
   ],
   "source": [
    "print(yas)"
   ]
  },
  {
   "cell_type": "code",
   "execution_count": 34,
   "id": "2f2a78d8",
   "metadata": {},
   "outputs": [
    {
     "data": {
      "text/plain": [
       "int"
      ]
     },
     "execution_count": 34,
     "metadata": {},
     "output_type": "execute_result"
    }
   ],
   "source": [
    "type(yas)"
   ]
  },
  {
   "cell_type": "code",
   "execution_count": 36,
   "id": "752e40a9",
   "metadata": {},
   "outputs": [],
   "source": [
    "bal = 95.5"
   ]
  },
  {
   "cell_type": "code",
   "execution_count": 38,
   "id": "811fcb3c",
   "metadata": {},
   "outputs": [
    {
     "name": "stdout",
     "output_type": "stream",
     "text": [
      "95.5\n"
     ]
    }
   ],
   "source": [
    "print(bal)"
   ]
  },
  {
   "cell_type": "code",
   "execution_count": 40,
   "id": "bd799996",
   "metadata": {},
   "outputs": [
    {
     "data": {
      "text/plain": [
       "float"
      ]
     },
     "execution_count": 40,
     "metadata": {},
     "output_type": "execute_result"
    }
   ],
   "source": [
    "type(bal)"
   ]
  },
  {
   "cell_type": "code",
   "execution_count": 42,
   "id": "976a7ac4",
   "metadata": {},
   "outputs": [
    {
     "data": {
      "text/plain": [
       "float"
      ]
     },
     "execution_count": 42,
     "metadata": {},
     "output_type": "execute_result"
    }
   ],
   "source": [
    "bal2 = 14.0\n",
    "type(bal2)"
   ]
  },
  {
   "cell_type": "code",
   "execution_count": 44,
   "id": "fcec468a",
   "metadata": {},
   "outputs": [
    {
     "data": {
      "text/plain": [
       "19.0"
      ]
     },
     "execution_count": 44,
     "metadata": {},
     "output_type": "execute_result"
    }
   ],
   "source": [
    "14.0 + 5"
   ]
  },
  {
   "cell_type": "code",
   "execution_count": 46,
   "id": "59b9752f",
   "metadata": {},
   "outputs": [
    {
     "data": {
      "text/plain": [
       "8"
      ]
     },
     "execution_count": 46,
     "metadata": {},
     "output_type": "execute_result"
    }
   ],
   "source": [
    "6 + 2"
   ]
  },
  {
   "cell_type": "code",
   "execution_count": 48,
   "id": "a3436698",
   "metadata": {},
   "outputs": [
    {
     "name": "stdout",
     "output_type": "stream",
     "text": [
      "menim 63 yasim var\n"
     ]
    }
   ],
   "source": [
    "# tapsiriq\n",
    "print('menim', 63, 'yasim var')"
   ]
  },
  {
   "cell_type": "markdown",
   "id": "c79f269d",
   "metadata": {},
   "source": [
    "----"
   ]
  },
  {
   "cell_type": "code",
   "execution_count": 51,
   "id": "edca2e99",
   "metadata": {},
   "outputs": [],
   "source": [
    "# boolean: True, False"
   ]
  },
  {
   "cell_type": "code",
   "execution_count": 53,
   "id": "0874cb32",
   "metadata": {},
   "outputs": [],
   "source": [
    "cut = True"
   ]
  },
  {
   "cell_type": "code",
   "execution_count": 55,
   "id": "6d8aff26",
   "metadata": {},
   "outputs": [],
   "source": [
    "tek  = False"
   ]
  },
  {
   "cell_type": "code",
   "execution_count": 57,
   "id": "89d05708",
   "metadata": {},
   "outputs": [
    {
     "data": {
      "text/plain": [
       "bool"
      ]
     },
     "execution_count": 57,
     "metadata": {},
     "output_type": "execute_result"
    }
   ],
   "source": [
    "type(tek)"
   ]
  },
  {
   "cell_type": "code",
   "execution_count": 59,
   "id": "f78a9b99",
   "metadata": {},
   "outputs": [
    {
     "data": {
      "text/plain": [
       "bool"
      ]
     },
     "execution_count": 59,
     "metadata": {},
     "output_type": "execute_result"
    }
   ],
   "source": [
    "type(cut)"
   ]
  },
  {
   "cell_type": "code",
   "execution_count": 61,
   "id": "39080d5f",
   "metadata": {},
   "outputs": [
    {
     "data": {
      "text/plain": [
       "bool"
      ]
     },
     "execution_count": 61,
     "metadata": {},
     "output_type": "execute_result"
    }
   ],
   "source": [
    "type(False)"
   ]
  },
  {
   "cell_type": "markdown",
   "id": "8c4e98f6",
   "metadata": {},
   "source": [
    "----"
   ]
  },
  {
   "cell_type": "code",
   "execution_count": 64,
   "id": "1c852445",
   "metadata": {},
   "outputs": [],
   "source": [
    "a  = 5"
   ]
  },
  {
   "cell_type": "code",
   "execution_count": 66,
   "id": "f90e634b",
   "metadata": {},
   "outputs": [
    {
     "name": "stdout",
     "output_type": "stream",
     "text": [
      "5\n"
     ]
    }
   ],
   "source": [
    "print(a)"
   ]
  },
  {
   "cell_type": "code",
   "execution_count": 68,
   "id": "0ff2adf8",
   "metadata": {},
   "outputs": [],
   "source": [
    "a = 9"
   ]
  },
  {
   "cell_type": "code",
   "execution_count": 70,
   "id": "ba7f66a9",
   "metadata": {},
   "outputs": [
    {
     "name": "stdout",
     "output_type": "stream",
     "text": [
      "9\n"
     ]
    }
   ],
   "source": [
    "print(a)"
   ]
  },
  {
   "cell_type": "code",
   "execution_count": 72,
   "id": "152771bb",
   "metadata": {},
   "outputs": [],
   "source": [
    "a = 56.66546"
   ]
  },
  {
   "cell_type": "code",
   "execution_count": 74,
   "id": "008f39ca",
   "metadata": {},
   "outputs": [
    {
     "data": {
      "text/plain": [
       "float"
      ]
     },
     "execution_count": 74,
     "metadata": {},
     "output_type": "execute_result"
    }
   ],
   "source": [
    "type(a)"
   ]
  },
  {
   "cell_type": "markdown",
   "id": "f2e0d4f5",
   "metadata": {},
   "source": [
    "## Strings"
   ]
  },
  {
   "cell_type": "code",
   "execution_count": 77,
   "id": "0ef22fca",
   "metadata": {},
   "outputs": [
    {
     "data": {
      "text/plain": [
       "'salam'"
      ]
     },
     "execution_count": 77,
     "metadata": {},
     "output_type": "execute_result"
    }
   ],
   "source": [
    "a = 'salam'\n",
    "a"
   ]
  },
  {
   "cell_type": "code",
   "execution_count": 79,
   "id": "3a91a5f1",
   "metadata": {},
   "outputs": [
    {
     "name": "stdout",
     "output_type": "stream",
     "text": [
      "telebe\n"
     ]
    }
   ],
   "source": [
    "men = 'telebe'\n",
    "print(men)"
   ]
  },
  {
   "cell_type": "code",
   "execution_count": 81,
   "id": "352601dd",
   "metadata": {},
   "outputs": [
    {
     "data": {
      "text/plain": [
       "str"
      ]
     },
     "execution_count": 81,
     "metadata": {},
     "output_type": "execute_result"
    }
   ],
   "source": [
    "type(men)"
   ]
  },
  {
   "cell_type": "code",
   "execution_count": 83,
   "id": "c2d38dc8",
   "metadata": {},
   "outputs": [],
   "source": [
    "# modifikasiya ve deyisiklikler olur"
   ]
  },
  {
   "cell_type": "markdown",
   "id": "9f72a6af",
   "metadata": {},
   "source": [
    "## Listler"
   ]
  },
  {
   "cell_type": "code",
   "execution_count": 86,
   "id": "6eeba912",
   "metadata": {},
   "outputs": [],
   "source": [
    "a = [1,3,5,6,7]\n",
    "b = ['salam']\n",
    "c = ['salam', 'men', 'yaxsiyam']\n",
    "d = [45, 'abc', 89, [45, 'def']]"
   ]
  },
  {
   "cell_type": "code",
   "execution_count": 88,
   "id": "4eb8959e",
   "metadata": {},
   "outputs": [
    {
     "data": {
      "text/plain": [
       "[1, 3, 5, 6, 7]"
      ]
     },
     "execution_count": 88,
     "metadata": {},
     "output_type": "execute_result"
    }
   ],
   "source": [
    "a"
   ]
  },
  {
   "cell_type": "code",
   "execution_count": 90,
   "id": "751b3648",
   "metadata": {},
   "outputs": [
    {
     "data": {
      "text/plain": [
       "['salam']"
      ]
     },
     "execution_count": 90,
     "metadata": {},
     "output_type": "execute_result"
    }
   ],
   "source": [
    "b"
   ]
  },
  {
   "cell_type": "code",
   "execution_count": 92,
   "id": "67adf88c",
   "metadata": {},
   "outputs": [
    {
     "data": {
      "text/plain": [
       "['salam', 'men', 'yaxsiyam']"
      ]
     },
     "execution_count": 92,
     "metadata": {},
     "output_type": "execute_result"
    }
   ],
   "source": [
    "c"
   ]
  },
  {
   "cell_type": "code",
   "execution_count": 94,
   "id": "faafa4f4",
   "metadata": {},
   "outputs": [
    {
     "data": {
      "text/plain": [
       "[45, 'abc', 89, [45, 'def']]"
      ]
     },
     "execution_count": 94,
     "metadata": {},
     "output_type": "execute_result"
    }
   ],
   "source": [
    "d"
   ]
  },
  {
   "cell_type": "code",
   "execution_count": 96,
   "id": "a79823a3",
   "metadata": {},
   "outputs": [
    {
     "data": {
      "text/plain": [
       "list"
      ]
     },
     "execution_count": 96,
     "metadata": {},
     "output_type": "execute_result"
    }
   ],
   "source": [
    "type(b)"
   ]
  },
  {
   "cell_type": "code",
   "execution_count": 98,
   "id": "99898628",
   "metadata": {},
   "outputs": [],
   "source": [
    "# mod. olur"
   ]
  },
  {
   "cell_type": "code",
   "execution_count": null,
   "id": "66878996",
   "metadata": {},
   "outputs": [],
   "source": []
  },
  {
   "cell_type": "markdown",
   "id": "774eea13",
   "metadata": {},
   "source": [
    "## Tuple"
   ]
  },
  {
   "cell_type": "code",
   "execution_count": 102,
   "id": "e719dbd7",
   "metadata": {},
   "outputs": [],
   "source": [
    "a = (4,5,6,8)    # icerilerine listlerdeki kimi butun nov elementleri elave elemek olur"
   ]
  },
  {
   "cell_type": "code",
   "execution_count": 104,
   "id": "f00cf033",
   "metadata": {},
   "outputs": [],
   "source": [
    "# mod. olmur"
   ]
  },
  {
   "cell_type": "code",
   "execution_count": 106,
   "id": "2f9f772a",
   "metadata": {},
   "outputs": [
    {
     "data": {
      "text/plain": [
       "(4, 5, 6, 8)"
      ]
     },
     "execution_count": 106,
     "metadata": {},
     "output_type": "execute_result"
    }
   ],
   "source": [
    "a"
   ]
  },
  {
   "cell_type": "code",
   "execution_count": 108,
   "id": "80c303d9",
   "metadata": {},
   "outputs": [
    {
     "data": {
      "text/plain": [
       "tuple"
      ]
     },
     "execution_count": 108,
     "metadata": {},
     "output_type": "execute_result"
    }
   ],
   "source": [
    "type(a)"
   ]
  },
  {
   "cell_type": "markdown",
   "id": "165c7f22",
   "metadata": {},
   "source": [
    "## Set - coxluq"
   ]
  },
  {
   "cell_type": "code",
   "execution_count": 111,
   "id": "cf772fe6",
   "metadata": {},
   "outputs": [],
   "source": [
    "a = {5,6,9,7,1}   # icerilerine tuplelerdeki kimi butun nov elementleri elave elemek olur"
   ]
  },
  {
   "cell_type": "code",
   "execution_count": 113,
   "id": "383d35ab",
   "metadata": {},
   "outputs": [
    {
     "data": {
      "text/plain": [
       "{1, 5, 6, 7, 9}"
      ]
     },
     "execution_count": 113,
     "metadata": {},
     "output_type": "execute_result"
    }
   ],
   "source": [
    "a"
   ]
  },
  {
   "cell_type": "code",
   "execution_count": 115,
   "id": "1de18e8d",
   "metadata": {},
   "outputs": [
    {
     "data": {
      "text/plain": [
       "set"
      ]
     },
     "execution_count": 115,
     "metadata": {},
     "output_type": "execute_result"
    }
   ],
   "source": [
    "type(a)"
   ]
  },
  {
   "cell_type": "code",
   "execution_count": 117,
   "id": "d9a1590b",
   "metadata": {},
   "outputs": [],
   "source": [
    "# QEYD: MODIFIKASIYA OLUNMUR, VE ICINDEKI ELEMENTDEN YALNIZ 1 DEFE OLA BILER"
   ]
  },
  {
   "cell_type": "code",
   "execution_count": 119,
   "id": "819b4b8d",
   "metadata": {},
   "outputs": [],
   "source": [
    "b = {4, 5, 6, 4, 7, 8, 4, 9}"
   ]
  },
  {
   "cell_type": "code",
   "execution_count": 121,
   "id": "e172b905",
   "metadata": {},
   "outputs": [
    {
     "data": {
      "text/plain": [
       "{4, 5, 6, 7, 8, 9}"
      ]
     },
     "execution_count": 121,
     "metadata": {},
     "output_type": "execute_result"
    }
   ],
   "source": [
    "b"
   ]
  },
  {
   "cell_type": "code",
   "execution_count": 123,
   "id": "fea2c3de",
   "metadata": {},
   "outputs": [
    {
     "data": {
      "text/plain": [
       "(44.66565656565, 35.645454545)"
      ]
     },
     "execution_count": 123,
     "metadata": {},
     "output_type": "execute_result"
    }
   ],
   "source": [
    "44.66565656565, 35.645454545"
   ]
  },
  {
   "cell_type": "markdown",
   "id": "4252ce3d",
   "metadata": {},
   "source": [
    "## Dictionary - Luget"
   ]
  },
  {
   "cell_type": "code",
   "execution_count": 126,
   "id": "55d3650a",
   "metadata": {},
   "outputs": [],
   "source": [
    "# soz: menasi\n",
    "# key: value"
   ]
  },
  {
   "cell_type": "code",
   "execution_count": 139,
   "id": "7dffd33d",
   "metadata": {},
   "outputs": [],
   "source": [
    "luget = {'Ad': 'Cavid'}"
   ]
  },
  {
   "cell_type": "code",
   "execution_count": 141,
   "id": "28f60991",
   "metadata": {},
   "outputs": [
    {
     "data": {
      "text/plain": [
       "{'Ad': 'Cavid'}"
      ]
     },
     "execution_count": 141,
     "metadata": {},
     "output_type": "execute_result"
    }
   ],
   "source": [
    "luget"
   ]
  },
  {
   "cell_type": "code",
   "execution_count": 143,
   "id": "67d1f814",
   "metadata": {},
   "outputs": [
    {
     "data": {
      "text/plain": [
       "dict"
      ]
     },
     "execution_count": 143,
     "metadata": {},
     "output_type": "execute_result"
    }
   ],
   "source": [
    "type(luget)"
   ]
  },
  {
   "cell_type": "code",
   "execution_count": 145,
   "id": "011beb39",
   "metadata": {},
   "outputs": [],
   "source": [
    "# mod. olur"
   ]
  },
  {
   "cell_type": "code",
   "execution_count": null,
   "id": "86135dd2",
   "metadata": {},
   "outputs": [],
   "source": []
  },
  {
   "cell_type": "code",
   "execution_count": null,
   "id": "b9031857",
   "metadata": {},
   "outputs": [],
   "source": []
  },
  {
   "cell_type": "code",
   "execution_count": null,
   "id": "d4f2e1b2-8c76-44ce-8fee-036375da98f9",
   "metadata": {},
   "outputs": [],
   "source": []
  },
  {
   "cell_type": "code",
   "execution_count": null,
   "id": "91271ebc-468c-4d9a-9083-68e25653af29",
   "metadata": {},
   "outputs": [],
   "source": []
  }
 ],
 "metadata": {
  "kernelspec": {
   "display_name": "Python 3 (ipykernel)",
   "language": "python",
   "name": "python3"
  },
  "language_info": {
   "codemirror_mode": {
    "name": "ipython",
    "version": 3
   },
   "file_extension": ".py",
   "mimetype": "text/x-python",
   "name": "python",
   "nbconvert_exporter": "python",
   "pygments_lexer": "ipython3",
   "version": "3.12.7"
  }
 },
 "nbformat": 4,
 "nbformat_minor": 5
}
