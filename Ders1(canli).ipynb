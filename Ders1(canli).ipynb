{
 "cells": [
  {
   "cell_type": "code",
   "execution_count": 1,
   "id": "8c243c0a-de5f-4748-9c9b-fdc343e27b94",
   "metadata": {},
   "outputs": [
    {
     "name": "stdout",
     "output_type": "stream",
     "text": [
      "Salam\n"
     ]
    }
   ],
   "source": [
    "print('Salam')"
   ]
  },
  {
   "cell_type": "code",
   "execution_count": 2,
   "id": "ed28cf54-20cb-4b1d-8066-780f5abfa9c7",
   "metadata": {},
   "outputs": [],
   "source": [
    "a='salam'"
   ]
  },
  {
   "cell_type": "code",
   "execution_count": 3,
   "id": "96338cc0-e63a-48de-8ab5-aaa7f1f13592",
   "metadata": {},
   "outputs": [],
   "source": [
    "b= '2'"
   ]
  },
  {
   "cell_type": "code",
   "execution_count": 4,
   "id": "c7b243e2-7038-4970-88c1-0aecf8af30b7",
   "metadata": {},
   "outputs": [
    {
     "data": {
      "text/plain": [
       "str"
      ]
     },
     "execution_count": 4,
     "metadata": {},
     "output_type": "execute_result"
    }
   ],
   "source": [
    "type(a)"
   ]
  },
  {
   "cell_type": "code",
   "execution_count": 5,
   "id": "94f9397d-2959-4c32-b507-4c449de23055",
   "metadata": {},
   "outputs": [
    {
     "ename": "TypeError",
     "evalue": "can only concatenate str (not \"int\") to str",
     "output_type": "error",
     "traceback": [
      "\u001b[1;31m---------------------------------------------------------------------------\u001b[0m",
      "\u001b[1;31mTypeError\u001b[0m                                 Traceback (most recent call last)",
      "Cell \u001b[1;32mIn[5], line 1\u001b[0m\n\u001b[1;32m----> 1\u001b[0m b \u001b[38;5;241m+\u001b[39m \u001b[38;5;241m2\u001b[39m\n",
      "\u001b[1;31mTypeError\u001b[0m: can only concatenate str (not \"int\") to str"
     ]
    }
   ],
   "source": [
    "b + 2"
   ]
  },
  {
   "cell_type": "code",
   "execution_count": 7,
   "id": "015657fc-243b-4fdc-8f82-2c8f9cbe3438",
   "metadata": {},
   "outputs": [
    {
     "data": {
      "text/plain": [
       "int"
      ]
     },
     "execution_count": 7,
     "metadata": {},
     "output_type": "execute_result"
    }
   ],
   "source": [
    "c=-4\n",
    "type(c)"
   ]
  },
  {
   "cell_type": "code",
   "execution_count": 9,
   "id": "f264d034-5f93-42f3-b8b4-4bd2f02f9c16",
   "metadata": {},
   "outputs": [
    {
     "data": {
      "text/plain": [
       "float"
      ]
     },
     "execution_count": 9,
     "metadata": {},
     "output_type": "execute_result"
    }
   ],
   "source": [
    "d = -4.0\n",
    "type(d)"
   ]
  },
  {
   "cell_type": "code",
   "execution_count": 13,
   "id": "8a3e51cf-70e3-4c16-8daa-4da16350e571",
   "metadata": {},
   "outputs": [],
   "source": [
    "cem = c+d"
   ]
  },
  {
   "cell_type": "code",
   "execution_count": 14,
   "id": "0384cc9d-c3b5-472c-ba95-8ea496c4790a",
   "metadata": {},
   "outputs": [
    {
     "data": {
      "text/plain": [
       "float"
      ]
     },
     "execution_count": 14,
     "metadata": {},
     "output_type": "execute_result"
    }
   ],
   "source": [
    "type(cem)"
   ]
  },
  {
   "cell_type": "code",
   "execution_count": 16,
   "id": "6a70b215-7a6a-4253-ae4f-bb277eb16beb",
   "metadata": {},
   "outputs": [
    {
     "data": {
      "text/plain": [
       "bool"
      ]
     },
     "execution_count": 16,
     "metadata": {},
     "output_type": "execute_result"
    }
   ],
   "source": [
    "type(True)"
   ]
  },
  {
   "cell_type": "code",
   "execution_count": 20,
   "id": "452cb06e-e6d8-495e-ab7f-4e0bddfa7853",
   "metadata": {},
   "outputs": [
    {
     "data": {
      "text/plain": [
       "False"
      ]
     },
     "execution_count": 20,
     "metadata": {},
     "output_type": "execute_result"
    }
   ],
   "source": [
    "'kjkj' == True"
   ]
  },
  {
   "cell_type": "code",
   "execution_count": 29,
   "id": "f7204e06-78a7-4ad6-958f-22a5f5da5015",
   "metadata": {},
   "outputs": [],
   "source": [
    "x='2'"
   ]
  },
  {
   "cell_type": "code",
   "execution_count": 22,
   "id": "2e473c0e-d47a-424e-94f7-97593ffa15d9",
   "metadata": {},
   "outputs": [
    {
     "data": {
      "text/plain": [
       "str"
      ]
     },
     "execution_count": 22,
     "metadata": {},
     "output_type": "execute_result"
    }
   ],
   "source": [
    "type(x)"
   ]
  },
  {
   "cell_type": "code",
   "execution_count": 26,
   "id": "c2e4565d-a3c3-44e4-bfe4-69fff4ea1daa",
   "metadata": {},
   "outputs": [
    {
     "data": {
      "text/plain": [
       "int"
      ]
     },
     "execution_count": 26,
     "metadata": {},
     "output_type": "execute_result"
    }
   ],
   "source": [
    "test = int(x)\n",
    "type(test)"
   ]
  },
  {
   "cell_type": "code",
   "execution_count": 31,
   "id": "a583b9fe-d416-43ba-a220-1c36f53d6fe6",
   "metadata": {},
   "outputs": [
    {
     "name": "stdout",
     "output_type": "stream",
     "text": [
      "22\n",
      "4\n"
     ]
    }
   ],
   "source": [
    "print(x*2) \n",
    "print(test*2)"
   ]
  },
  {
   "cell_type": "markdown",
   "id": "6e81c243-a795-4213-9597-4a07e3235391",
   "metadata": {},
   "source": [
    "Praktiki Tapsiriqlar"
   ]
  },
  {
   "cell_type": "code",
   "execution_count": 32,
   "id": "9d006bfa-14c0-4b4c-9087-01c4dedf28ae",
   "metadata": {},
   "outputs": [],
   "source": [
    "f='resm eseri'"
   ]
  },
  {
   "cell_type": "code",
   "execution_count": 33,
   "id": "1ebff527-b806-4a96-92dd-ea91083eed80",
   "metadata": {},
   "outputs": [
    {
     "name": "stdout",
     "output_type": "stream",
     "text": [
      "resm eseri\n"
     ]
    }
   ],
   "source": [
    "print(f)"
   ]
  },
  {
   "cell_type": "code",
   "execution_count": 48,
   "id": "08aa3358-6911-4cdd-8ad1-c226261fc3e2",
   "metadata": {},
   "outputs": [
    {
     "data": {
      "text/plain": [
       "str"
      ]
     },
     "execution_count": 48,
     "metadata": {},
     "output_type": "execute_result"
    }
   ],
   "source": [
    "type(f) #salam"
   ]
  },
  {
   "cell_type": "code",
   "execution_count": 49,
   "id": "9e7e85a9-cbec-440b-af07-cf2a6863896a",
   "metadata": {},
   "outputs": [
    {
     "data": {
      "text/plain": [
       "18"
      ]
     },
     "execution_count": 49,
     "metadata": {},
     "output_type": "execute_result"
    }
   ],
   "source": [
    "\"\"\"jhgjhgjh\n",
    "gj\n",
    "\n",
    "\n",
    "pkmppokmp\n",
    "\n",
    "\n",
    "\"\"\"\n",
    "2*9"
   ]
  },
  {
   "cell_type": "code",
   "execution_count": 35,
   "id": "06176c93-6eb8-4661-a6e4-3f7a93302d12",
   "metadata": {},
   "outputs": [],
   "source": [
    "h='bahalidir'"
   ]
  },
  {
   "cell_type": "code",
   "execution_count": 39,
   "id": "52043fd1-2153-4154-8b2f-36534c4d4938",
   "metadata": {},
   "outputs": [
    {
     "data": {
      "text/plain": [
       "'resm eseri,bahalidir'"
      ]
     },
     "execution_count": 39,
     "metadata": {},
     "output_type": "execute_result"
    }
   ],
   "source": [
    "f + \",\" + h"
   ]
  },
  {
   "cell_type": "code",
   "execution_count": 40,
   "id": "5a034f50-04a9-4044-b57e-1a89a540e8bb",
   "metadata": {},
   "outputs": [],
   "source": [
    "Q='5'"
   ]
  },
  {
   "cell_type": "code",
   "execution_count": 42,
   "id": "0110cfda-7c7e-420a-9ac1-1ed79f8adc36",
   "metadata": {},
   "outputs": [
    {
     "data": {
      "text/plain": [
       "str"
      ]
     },
     "execution_count": 42,
     "metadata": {},
     "output_type": "execute_result"
    }
   ],
   "source": [
    "type(Q)"
   ]
  },
  {
   "cell_type": "code",
   "execution_count": 43,
   "id": "624b9aef-a081-4c81-b0ea-609b41c19b63",
   "metadata": {},
   "outputs": [],
   "source": [
    "g=int(Q)"
   ]
  },
  {
   "cell_type": "code",
   "execution_count": 46,
   "id": "facc0ad4-f819-4932-8db3-2ba3f11cf311",
   "metadata": {},
   "outputs": [
    {
     "data": {
      "text/plain": [
       "int"
      ]
     },
     "execution_count": 46,
     "metadata": {},
     "output_type": "execute_result"
    }
   ],
   "source": [
    "type(g)"
   ]
  },
  {
   "cell_type": "code",
   "execution_count": 47,
   "id": "6248fd99-85c0-40a9-94cd-c1f444a77754",
   "metadata": {},
   "outputs": [
    {
     "data": {
      "text/plain": [
       "'5resm eseribahalidir'"
      ]
     },
     "execution_count": 47,
     "metadata": {},
     "output_type": "execute_result"
    }
   ],
   "source": [
    "Q + '' f + h"
   ]
  },
  {
   "cell_type": "code",
   "execution_count": null,
   "id": "a7ced839-1588-4b27-85b1-b7d46c9e165b",
   "metadata": {},
   "outputs": [],
   "source": []
  }
 ],
 "metadata": {
  "kernelspec": {
   "display_name": "Python 3 (ipykernel)",
   "language": "python",
   "name": "python3"
  },
  "language_info": {
   "codemirror_mode": {
    "name": "ipython",
    "version": 3
   },
   "file_extension": ".py",
   "mimetype": "text/x-python",
   "name": "python",
   "nbconvert_exporter": "python",
   "pygments_lexer": "ipython3",
   "version": "3.12.7"
  }
 },
 "nbformat": 4,
 "nbformat_minor": 5
}
