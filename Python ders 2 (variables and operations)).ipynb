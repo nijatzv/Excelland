{
 "cells": [
  {
   "cell_type": "markdown",
   "id": "01be284e-579a-42bd-b8e1-fb0c43e6b288",
   "metadata": {},
   "source": [
    "<h3>Roadmap</h3>\n",
    "\n",
    "1. Dəyişənlər - int, float, str, bool\n",
    "2. Məntiqi operatorlar - and/or/not\n",
    "3. Müqayisə operatorları - =/!=...\n",
    "4. Arifmetik operatorlar - +-* / % ** //\n",
    "5. Hesab operatorları - == | += -= *= /=\n",
    "6. Math kitabxanasi (optional)"
   ]
  },
  {
   "cell_type": "markdown",
   "id": "560e6115-3fe3-4ed2-91df-05445c2819ae",
   "metadata": {},
   "source": [
    "1 - xetti alqoritm\n",
    "2 - budaqlanan\n",
    "3 - dovri"
   ]
  },
  {
   "cell_type": "code",
   "execution_count": null,
   "id": "0e475ce5-4f16-4b9a-b093-ed104d85df86",
   "metadata": {},
   "outputs": [],
   "source": []
  },
  {
   "cell_type": "code",
   "execution_count": 28,
   "id": "0505abb6-4fb4-4c7a-99b1-03a197782b3f",
   "metadata": {},
   "outputs": [
    {
     "name": "stdout",
     "output_type": "stream",
     "text": [
      "True\n"
     ]
    }
   ],
   "source": [
    "x = 10\n",
    "y = 100\n",
    "\n",
    "if x>9 or y>20:\n",
    "    print(True)\n",
    "else:\n",
    "    print(False)"
   ]
  },
  {
   "cell_type": "code",
   "execution_count": null,
   "id": "1ee46f96-d8f4-40fb-bd6f-56c2c99ecf94",
   "metadata": {},
   "outputs": [],
   "source": []
  },
  {
   "cell_type": "markdown",
   "id": "463e78d7-3f66-463b-aa8c-368b1541cc1d",
   "metadata": {},
   "source": [
    " = -> teyin edir\n",
    "\n",
    " \n",
    " == -> dogrulugunu / muqayise edir"
   ]
  },
  {
   "cell_type": "code",
   "execution_count": 40,
   "id": "ae3ddfde-b440-4031-a10f-32b1a13e58ab",
   "metadata": {},
   "outputs": [
    {
     "name": "stdout",
     "output_type": "stream",
     "text": [
      "8\n"
     ]
    }
   ],
   "source": [
    "a = 8\n",
    "print(a)"
   ]
  },
  {
   "cell_type": "code",
   "execution_count": 46,
   "id": "fde3b8ee-1721-491f-972a-679a7f5b741d",
   "metadata": {},
   "outputs": [
    {
     "ename": "NameError",
     "evalue": "name 'f' is not defined",
     "output_type": "error",
     "traceback": [
      "\u001b[1;31m---------------------------------------------------------------------------\u001b[0m",
      "\u001b[1;31mNameError\u001b[0m                                 Traceback (most recent call last)",
      "Cell \u001b[1;32mIn[46], line 1\u001b[0m\n\u001b[1;32m----> 1\u001b[0m f \u001b[38;5;241m==\u001b[39m \u001b[38;5;241m9\u001b[39m\n\u001b[0;32m      2\u001b[0m \u001b[38;5;28mprint\u001b[39m(x)\n",
      "\u001b[1;31mNameError\u001b[0m: name 'f' is not defined"
     ]
    }
   ],
   "source": [
    "f == 9\n",
    "print(x)"
   ]
  },
  {
   "cell_type": "markdown",
   "id": "979a2b9d-7b6d-4077-9a08-84b49a49e3e5",
   "metadata": {},
   "source": [
    "== beraberliyi yoxlayir\n",
    "\n",
    "' > boyukdur\n",
    "\n",
    "' < kicikdir'\n",
    "\n",
    "!= beraber deyil\n",
    "\n",
    "'>=' boyuk beraberdir\n",
    "\n",
    "'<=' kicik beraberdir\n"
   ]
  },
  {
   "cell_type": "code",
   "execution_count": 50,
   "id": "9c4eed13-f1d6-45e6-abfb-8c1901cb5991",
   "metadata": {},
   "outputs": [
    {
     "data": {
      "text/plain": [
       "True"
      ]
     },
     "execution_count": 50,
     "metadata": {},
     "output_type": "execute_result"
    }
   ],
   "source": [
    "dey1 = 10\n",
    "dey1 == 10"
   ]
  },
  {
   "cell_type": "code",
   "execution_count": 54,
   "id": "e8ea63ef-1bd3-479a-b6e2-dd25b33f30b9",
   "metadata": {},
   "outputs": [
    {
     "data": {
      "text/plain": [
       "False"
      ]
     },
     "execution_count": 54,
     "metadata": {},
     "output_type": "execute_result"
    }
   ],
   "source": [
    "dey1 != 10"
   ]
  },
  {
   "cell_type": "code",
   "execution_count": 56,
   "id": "c33dcffd-2fe1-4537-85ea-7d8a64c7d37d",
   "metadata": {},
   "outputs": [
    {
     "data": {
      "text/plain": [
       "True"
      ]
     },
     "execution_count": 56,
     "metadata": {},
     "output_type": "execute_result"
    }
   ],
   "source": [
    "dey1 > 9"
   ]
  },
  {
   "cell_type": "code",
   "execution_count": 60,
   "id": "bd084a82-b81c-4a99-82f0-c42128e7e0bd",
   "metadata": {},
   "outputs": [
    {
     "data": {
      "text/plain": [
       "False"
      ]
     },
     "execution_count": 60,
     "metadata": {},
     "output_type": "execute_result"
    }
   ],
   "source": [
    "dey1 < 7"
   ]
  },
  {
   "cell_type": "code",
   "execution_count": 66,
   "id": "16b11fac-4e09-4f60-9640-fb17d3b6b7c0",
   "metadata": {},
   "outputs": [
    {
     "data": {
      "text/plain": [
       "False"
      ]
     },
     "execution_count": 66,
     "metadata": {},
     "output_type": "execute_result"
    }
   ],
   "source": [
    "dey1 >= 11"
   ]
  },
  {
   "cell_type": "code",
   "execution_count": 74,
   "id": "3679e69d-1338-4ad0-bc91-36cbb55ee39d",
   "metadata": {},
   "outputs": [
    {
     "data": {
      "text/plain": [
       "True"
      ]
     },
     "execution_count": 74,
     "metadata": {},
     "output_type": "execute_result"
    }
   ],
   "source": [
    "dey1 <= 14"
   ]
  },
  {
   "cell_type": "markdown",
   "id": "b46f6820-e21b-4c63-a3a8-01bd2123bce4",
   "metadata": {},
   "source": [
    "-------"
   ]
  },
  {
   "cell_type": "markdown",
   "id": "2f05c15d-cba4-40db-9880-1f4446d7551d",
   "metadata": {},
   "source": [
    "toplama +\n",
    "\n",
    "cixma -\n",
    "\n",
    "vurma *\n",
    "\n",
    "bolme /\n",
    "\n",
    "qaligini tapma %\n",
    "\n",
    "tam hisse tapmaq //\n",
    "\n",
    "quvvete yukseltme **"
   ]
  },
  {
   "cell_type": "code",
   "execution_count": 103,
   "id": "81ccabf8-20f2-4013-871e-190cc4949c8a",
   "metadata": {},
   "outputs": [],
   "source": [
    "a = 10\n",
    "b = 24"
   ]
  },
  {
   "cell_type": "code",
   "execution_count": 91,
   "id": "6a3c6577-9d42-460e-901d-ad9364527516",
   "metadata": {},
   "outputs": [
    {
     "data": {
      "text/plain": [
       "34"
      ]
     },
     "execution_count": 91,
     "metadata": {},
     "output_type": "execute_result"
    }
   ],
   "source": [
    "a + b"
   ]
  },
  {
   "cell_type": "code",
   "execution_count": 93,
   "id": "3799caff-16a8-4e92-a15f-48b9343da534",
   "metadata": {},
   "outputs": [
    {
     "data": {
      "text/plain": [
       "-14"
      ]
     },
     "execution_count": 93,
     "metadata": {},
     "output_type": "execute_result"
    }
   ],
   "source": [
    "a - b"
   ]
  },
  {
   "cell_type": "code",
   "execution_count": 95,
   "id": "173ed3bc-356a-4386-a0a4-a28827e9fce9",
   "metadata": {},
   "outputs": [
    {
     "data": {
      "text/plain": [
       "240"
      ]
     },
     "execution_count": 95,
     "metadata": {},
     "output_type": "execute_result"
    }
   ],
   "source": [
    "b*a"
   ]
  },
  {
   "cell_type": "code",
   "execution_count": 97,
   "id": "2ae4c7f0-e3d3-4dfd-b439-24bfec346949",
   "metadata": {},
   "outputs": [
    {
     "data": {
      "text/plain": [
       "2.4"
      ]
     },
     "execution_count": 97,
     "metadata": {},
     "output_type": "execute_result"
    }
   ],
   "source": [
    "b / a"
   ]
  },
  {
   "cell_type": "code",
   "execution_count": 99,
   "id": "f2326f0f-471b-4046-bef9-3433b5155d25",
   "metadata": {},
   "outputs": [
    {
     "data": {
      "text/plain": [
       "2"
      ]
     },
     "execution_count": 99,
     "metadata": {},
     "output_type": "execute_result"
    }
   ],
   "source": [
    "b // a"
   ]
  },
  {
   "cell_type": "code",
   "execution_count": 101,
   "id": "0939937c-fae3-4cfc-8561-2703d659af9e",
   "metadata": {},
   "outputs": [
    {
     "data": {
      "text/plain": [
       "4"
      ]
     },
     "execution_count": 101,
     "metadata": {},
     "output_type": "execute_result"
    }
   ],
   "source": [
    "b % a"
   ]
  },
  {
   "cell_type": "code",
   "execution_count": 109,
   "id": "5e6097c6-f7eb-46be-bfbf-4cfb4eb91927",
   "metadata": {},
   "outputs": [
    {
     "data": {
      "text/plain": [
       "False"
      ]
     },
     "execution_count": 109,
     "metadata": {},
     "output_type": "execute_result"
    }
   ],
   "source": [
    "11 % 2 == 0"
   ]
  },
  {
   "cell_type": "code",
   "execution_count": 119,
   "id": "effc954f-5fed-4b29-830f-611151ff8875",
   "metadata": {},
   "outputs": [
    {
     "data": {
      "text/plain": [
       "True"
      ]
     },
     "execution_count": 119,
     "metadata": {},
     "output_type": "execute_result"
    }
   ],
   "source": [
    "11 // 2 == 5"
   ]
  },
  {
   "cell_type": "code",
   "execution_count": 121,
   "id": "51aba257-1f8b-4a49-a383-d07e69ea99f5",
   "metadata": {},
   "outputs": [
    {
     "data": {
      "text/plain": [
       "64"
      ]
     },
     "execution_count": 121,
     "metadata": {},
     "output_type": "execute_result"
    }
   ],
   "source": [
    "8 ** 2"
   ]
  },
  {
   "cell_type": "code",
   "execution_count": 123,
   "id": "23a540d2-0027-42a3-866d-82a3f5349f6d",
   "metadata": {},
   "outputs": [
    {
     "data": {
      "text/plain": [
       "27"
      ]
     },
     "execution_count": 123,
     "metadata": {},
     "output_type": "execute_result"
    }
   ],
   "source": [
    "3 ** 3 "
   ]
  },
  {
   "cell_type": "code",
   "execution_count": 129,
   "id": "6e0d1bcb-0b55-4092-a183-e131fb8e29d8",
   "metadata": {},
   "outputs": [
    {
     "data": {
      "text/plain": [
       "32"
      ]
     },
     "execution_count": 129,
     "metadata": {},
     "output_type": "execute_result"
    }
   ],
   "source": [
    "2 ** 5"
   ]
  },
  {
   "cell_type": "markdown",
   "id": "c500b83f-06c7-42f8-ace6-7c5d3a5ee547",
   "metadata": {},
   "source": [
    "------"
   ]
  },
  {
   "cell_type": "code",
   "execution_count": 177,
   "id": "1907e777-bab4-4886-880e-4896df6dad28",
   "metadata": {},
   "outputs": [],
   "source": [
    "x = 10"
   ]
  },
  {
   "cell_type": "code",
   "execution_count": 179,
   "id": "4b8a8e2a-76d2-4635-a337-b76df0625d66",
   "metadata": {},
   "outputs": [
    {
     "data": {
      "text/plain": [
       "20"
      ]
     },
     "execution_count": 179,
     "metadata": {},
     "output_type": "execute_result"
    }
   ],
   "source": [
    "x = x + 10\n",
    "x"
   ]
  },
  {
   "cell_type": "code",
   "execution_count": 172,
   "id": "55a787b0-a1db-49f1-b500-95b9eeea55c8",
   "metadata": {},
   "outputs": [
    {
     "data": {
      "text/plain": [
       "30"
      ]
     },
     "execution_count": 172,
     "metadata": {},
     "output_type": "execute_result"
    }
   ],
   "source": [
    "# x = x + 5\n",
    "x += 5\n",
    "x"
   ]
  },
  {
   "cell_type": "code",
   "execution_count": null,
   "id": "a825305f-babf-4a76-a5d1-15658110bc08",
   "metadata": {},
   "outputs": [],
   "source": [
    "5!\n",
    "0*1*2*3*4*5"
   ]
  },
  {
   "cell_type": "code",
   "execution_count": null,
   "id": "8dd45545-2591-4da8-9ae3-eaaab20b50de",
   "metadata": {},
   "outputs": [],
   "source": [
    "a = 1\n",
    "a = a+1"
   ]
  },
  {
   "cell_type": "code",
   "execution_count": null,
   "id": "e351f698-a134-4954-8307-a223b9191544",
   "metadata": {},
   "outputs": [],
   "source": []
  },
  {
   "cell_type": "markdown",
   "id": "6dcc1e77-2a0e-4277-847a-9ee38b3856e9",
   "metadata": {},
   "source": [
    "------"
   ]
  },
  {
   "cell_type": "code",
   "execution_count": null,
   "id": "6b86e338-c2bf-45e5-b31d-fa6908f7d995",
   "metadata": {},
   "outputs": [],
   "source": []
  },
  {
   "cell_type": "code",
   "execution_count": 8,
   "id": "f67cc563-a10e-4022-9bd7-9b6320601215",
   "metadata": {},
   "outputs": [],
   "source": [
    "# from math import*\n",
    "# import math\n",
    "# import math as m"
   ]
  },
  {
   "cell_type": "code",
   "execution_count": 17,
   "id": "551edea4-14f1-4100-a80a-d51cfd715bc3",
   "metadata": {},
   "outputs": [],
   "source": [
    "import math"
   ]
  },
  {
   "cell_type": "code",
   "execution_count": 19,
   "id": "969d5f3b-8fcf-408e-912d-8f745b1bf5a5",
   "metadata": {},
   "outputs": [
    {
     "data": {
      "text/plain": [
       "8.0"
      ]
     },
     "execution_count": 19,
     "metadata": {},
     "output_type": "execute_result"
    }
   ],
   "source": [
    "math.sqrt(64)"
   ]
  },
  {
   "cell_type": "code",
   "execution_count": null,
   "id": "8f41c87e-9c37-41aa-a149-4b879b9cc561",
   "metadata": {},
   "outputs": [],
   "source": []
  },
  {
   "cell_type": "code",
   "execution_count": 21,
   "id": "f8db2c01-6ba8-468d-ad57-7daca880e56d",
   "metadata": {},
   "outputs": [],
   "source": [
    "import math as m"
   ]
  },
  {
   "cell_type": "code",
   "execution_count": 23,
   "id": "bc2a618f-4d8a-435f-8301-e72f5cc61961",
   "metadata": {},
   "outputs": [
    {
     "data": {
      "text/plain": [
       "8.0"
      ]
     },
     "execution_count": 23,
     "metadata": {},
     "output_type": "execute_result"
    }
   ],
   "source": [
    "m.sqrt(64)"
   ]
  },
  {
   "cell_type": "code",
   "execution_count": null,
   "id": "0a9520df-4a9c-469d-94ef-1a053bf8a318",
   "metadata": {},
   "outputs": [],
   "source": []
  },
  {
   "cell_type": "code",
   "execution_count": 1,
   "id": "8284e9fa-2819-43cd-bb40-687705bab95e",
   "metadata": {},
   "outputs": [],
   "source": [
    "from math import *"
   ]
  },
  {
   "cell_type": "code",
   "execution_count": 5,
   "id": "c5f7ccf7-28c1-43d7-9947-ce4fa0228193",
   "metadata": {},
   "outputs": [
    {
     "data": {
      "text/plain": [
       "8.0"
      ]
     },
     "execution_count": 5,
     "metadata": {},
     "output_type": "execute_result"
    }
   ],
   "source": [
    "sqrt(64)"
   ]
  },
  {
   "cell_type": "code",
   "execution_count": 7,
   "id": "7f7e94d0-7852-4013-8147-db994bb19df8",
   "metadata": {},
   "outputs": [
    {
     "data": {
      "text/plain": [
       "400.0"
      ]
     },
     "execution_count": 7,
     "metadata": {},
     "output_type": "execute_result"
    }
   ],
   "source": [
    "# 5**2*2**3\n",
    "pow(5, 2) * pow(2,4)"
   ]
  },
  {
   "cell_type": "code",
   "execution_count": null,
   "id": "fe1d7ebc-5351-477c-941c-ca394d04efd9",
   "metadata": {},
   "outputs": [],
   "source": []
  },
  {
   "cell_type": "code",
   "execution_count": null,
   "id": "b645a52b-1729-41b6-b5c2-81b2293bd2c3",
   "metadata": {},
   "outputs": [],
   "source": []
  }
 ],
 "metadata": {
  "kernelspec": {
   "display_name": "Python 3 (ipykernel)",
   "language": "python",
   "name": "python3"
  },
  "language_info": {
   "codemirror_mode": {
    "name": "ipython",
    "version": 3
   },
   "file_extension": ".py",
   "mimetype": "text/x-python",
   "name": "python",
   "nbconvert_exporter": "python",
   "pygments_lexer": "ipython3",
   "version": "3.12.7"
  }
 },
 "nbformat": 4,
 "nbformat_minor": 5
}
